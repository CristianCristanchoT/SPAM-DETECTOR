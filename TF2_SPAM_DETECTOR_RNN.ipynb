{
  "nbformat": 4,
  "nbformat_minor": 0,
  "metadata": {
    "colab": {
      "name": "TF2 SPAM DETECTOR RNN.ipynb",
      "provenance": [],
      "authorship_tag": "ABX9TyN6ZE9wiz3g8RlrAETA6OPb",
      "include_colab_link": true
    },
    "kernelspec": {
      "name": "python3",
      "display_name": "Python 3"
    },
    "accelerator": "GPU"
  },
  "cells": [
    {
      "cell_type": "markdown",
      "metadata": {
        "id": "view-in-github",
        "colab_type": "text"
      },
      "source": [
        "<a href=\"https://colab.research.google.com/github/CristianCristanchoT/SPAM-DETECTOR/blob/master/TF2_SPAM_DETECTOR_RNN.ipynb\" target=\"_parent\"><img src=\"https://colab.research.google.com/assets/colab-badge.svg\" alt=\"Open In Colab\"/></a>"
      ]
    },
    {
      "cell_type": "code",
      "metadata": {
        "id": "WGvmP3VR28Wd",
        "colab_type": "code",
        "colab": {}
      },
      "source": [
        "!pip install -q tensorflow-gpu==2.0.0"
      ],
      "execution_count": 0,
      "outputs": []
    },
    {
      "cell_type": "code",
      "metadata": {
        "id": "SYdP5mFk3Eoj",
        "colab_type": "code",
        "colab": {}
      },
      "source": [
        "import tensorflow as tf\n",
        "\n",
        "import numpy as np\n",
        "import pandas as pd\n",
        "import matplotlib.pyplot as plt\n",
        "\n",
        "from sklearn.model_selection import train_test_split\n",
        "\n",
        "from tensorflow.keras.preprocessing.text import Tokenizer\n",
        "from tensorflow.keras.preprocessing.sequence import pad_sequences\n",
        "\n",
        "from tensorflow.keras.layers import Input, Dense, Flatten, SimpleRNN, GRU, LSTM, GlobalMaxPooling1D, Embedding\n",
        "from tensorflow.keras.models import Model\n",
        "from tensorflow.keras.optimizers import SGD, Adam\n"
      ],
      "execution_count": 0,
      "outputs": []
    },
    {
      "cell_type": "code",
      "metadata": {
        "id": "xs2sxBnQ_cr7",
        "colab_type": "code",
        "outputId": "720ca80b-ba90-4407-d4bd-d1ffa0eed09b",
        "colab": {
          "base_uri": "https://localhost:8080/",
          "height": 204
        }
      },
      "source": [
        "!wget https://lazyprogrammer.me/course_files/spam.csv"
      ],
      "execution_count": 0,
      "outputs": [
        {
          "output_type": "stream",
          "text": [
            "--2020-02-10 21:26:48--  https://lazyprogrammer.me/course_files/spam.csv\n",
            "Resolving lazyprogrammer.me (lazyprogrammer.me)... 104.31.80.48, 104.31.81.48, 2606:4700:3035::681f:5130, ...\n",
            "Connecting to lazyprogrammer.me (lazyprogrammer.me)|104.31.80.48|:443... connected.\n",
            "HTTP request sent, awaiting response... 200 OK\n",
            "Length: 503663 (492K) [text/csv]\n",
            "Saving to: ‘spam.csv’\n",
            "\n",
            "\rspam.csv              0%[                    ]       0  --.-KB/s               \rspam.csv            100%[===================>] 491.86K  --.-KB/s    in 0.03s   \n",
            "\n",
            "2020-02-10 21:26:48 (15.3 MB/s) - ‘spam.csv’ saved [503663/503663]\n",
            "\n"
          ],
          "name": "stdout"
        }
      ]
    },
    {
      "cell_type": "code",
      "metadata": {
        "id": "YJenm848_3de",
        "colab_type": "code",
        "colab": {}
      },
      "source": [
        "df = pd.read_csv('spam.csv', encoding='ISO-8859-1')"
      ],
      "execution_count": 0,
      "outputs": []
    },
    {
      "cell_type": "code",
      "metadata": {
        "id": "ArUvi3dwAKna",
        "colab_type": "code",
        "outputId": "5010caca-5b8f-4606-a26a-4252ac69cb7d",
        "colab": {
          "base_uri": "https://localhost:8080/",
          "height": 204
        }
      },
      "source": [
        "df.head()"
      ],
      "execution_count": 0,
      "outputs": [
        {
          "output_type": "execute_result",
          "data": {
            "text/html": [
              "<div>\n",
              "<style scoped>\n",
              "    .dataframe tbody tr th:only-of-type {\n",
              "        vertical-align: middle;\n",
              "    }\n",
              "\n",
              "    .dataframe tbody tr th {\n",
              "        vertical-align: top;\n",
              "    }\n",
              "\n",
              "    .dataframe thead th {\n",
              "        text-align: right;\n",
              "    }\n",
              "</style>\n",
              "<table border=\"1\" class=\"dataframe\">\n",
              "  <thead>\n",
              "    <tr style=\"text-align: right;\">\n",
              "      <th></th>\n",
              "      <th>v1</th>\n",
              "      <th>v2</th>\n",
              "      <th>Unnamed: 2</th>\n",
              "      <th>Unnamed: 3</th>\n",
              "      <th>Unnamed: 4</th>\n",
              "    </tr>\n",
              "  </thead>\n",
              "  <tbody>\n",
              "    <tr>\n",
              "      <th>0</th>\n",
              "      <td>ham</td>\n",
              "      <td>Go until jurong point, crazy.. Available only ...</td>\n",
              "      <td>NaN</td>\n",
              "      <td>NaN</td>\n",
              "      <td>NaN</td>\n",
              "    </tr>\n",
              "    <tr>\n",
              "      <th>1</th>\n",
              "      <td>ham</td>\n",
              "      <td>Ok lar... Joking wif u oni...</td>\n",
              "      <td>NaN</td>\n",
              "      <td>NaN</td>\n",
              "      <td>NaN</td>\n",
              "    </tr>\n",
              "    <tr>\n",
              "      <th>2</th>\n",
              "      <td>spam</td>\n",
              "      <td>Free entry in 2 a wkly comp to win FA Cup fina...</td>\n",
              "      <td>NaN</td>\n",
              "      <td>NaN</td>\n",
              "      <td>NaN</td>\n",
              "    </tr>\n",
              "    <tr>\n",
              "      <th>3</th>\n",
              "      <td>ham</td>\n",
              "      <td>U dun say so early hor... U c already then say...</td>\n",
              "      <td>NaN</td>\n",
              "      <td>NaN</td>\n",
              "      <td>NaN</td>\n",
              "    </tr>\n",
              "    <tr>\n",
              "      <th>4</th>\n",
              "      <td>ham</td>\n",
              "      <td>Nah I don't think he goes to usf, he lives aro...</td>\n",
              "      <td>NaN</td>\n",
              "      <td>NaN</td>\n",
              "      <td>NaN</td>\n",
              "    </tr>\n",
              "  </tbody>\n",
              "</table>\n",
              "</div>"
            ],
            "text/plain": [
              "     v1  ... Unnamed: 4\n",
              "0   ham  ...        NaN\n",
              "1   ham  ...        NaN\n",
              "2  spam  ...        NaN\n",
              "3   ham  ...        NaN\n",
              "4   ham  ...        NaN\n",
              "\n",
              "[5 rows x 5 columns]"
            ]
          },
          "metadata": {
            "tags": []
          },
          "execution_count": 7
        }
      ]
    },
    {
      "cell_type": "code",
      "metadata": {
        "id": "-qkAOFv3ANWa",
        "colab_type": "code",
        "colab": {}
      },
      "source": [
        "df = df.drop([\"Unnamed: 2\", \"Unnamed: 3\", \"Unnamed: 4\"], axis=1)"
      ],
      "execution_count": 0,
      "outputs": []
    },
    {
      "cell_type": "code",
      "metadata": {
        "id": "IwQm3hKyAfwf",
        "colab_type": "code",
        "outputId": "3d4d654e-fdad-40eb-d06c-db8010c7ae1e",
        "colab": {
          "base_uri": "https://localhost:8080/",
          "height": 204
        }
      },
      "source": [
        "df.head()"
      ],
      "execution_count": 0,
      "outputs": [
        {
          "output_type": "execute_result",
          "data": {
            "text/html": [
              "<div>\n",
              "<style scoped>\n",
              "    .dataframe tbody tr th:only-of-type {\n",
              "        vertical-align: middle;\n",
              "    }\n",
              "\n",
              "    .dataframe tbody tr th {\n",
              "        vertical-align: top;\n",
              "    }\n",
              "\n",
              "    .dataframe thead th {\n",
              "        text-align: right;\n",
              "    }\n",
              "</style>\n",
              "<table border=\"1\" class=\"dataframe\">\n",
              "  <thead>\n",
              "    <tr style=\"text-align: right;\">\n",
              "      <th></th>\n",
              "      <th>v1</th>\n",
              "      <th>v2</th>\n",
              "    </tr>\n",
              "  </thead>\n",
              "  <tbody>\n",
              "    <tr>\n",
              "      <th>0</th>\n",
              "      <td>ham</td>\n",
              "      <td>Go until jurong point, crazy.. Available only ...</td>\n",
              "    </tr>\n",
              "    <tr>\n",
              "      <th>1</th>\n",
              "      <td>ham</td>\n",
              "      <td>Ok lar... Joking wif u oni...</td>\n",
              "    </tr>\n",
              "    <tr>\n",
              "      <th>2</th>\n",
              "      <td>spam</td>\n",
              "      <td>Free entry in 2 a wkly comp to win FA Cup fina...</td>\n",
              "    </tr>\n",
              "    <tr>\n",
              "      <th>3</th>\n",
              "      <td>ham</td>\n",
              "      <td>U dun say so early hor... U c already then say...</td>\n",
              "    </tr>\n",
              "    <tr>\n",
              "      <th>4</th>\n",
              "      <td>ham</td>\n",
              "      <td>Nah I don't think he goes to usf, he lives aro...</td>\n",
              "    </tr>\n",
              "  </tbody>\n",
              "</table>\n",
              "</div>"
            ],
            "text/plain": [
              "     v1                                                 v2\n",
              "0   ham  Go until jurong point, crazy.. Available only ...\n",
              "1   ham                      Ok lar... Joking wif u oni...\n",
              "2  spam  Free entry in 2 a wkly comp to win FA Cup fina...\n",
              "3   ham  U dun say so early hor... U c already then say...\n",
              "4   ham  Nah I don't think he goes to usf, he lives aro..."
            ]
          },
          "metadata": {
            "tags": []
          },
          "execution_count": 10
        }
      ]
    },
    {
      "cell_type": "code",
      "metadata": {
        "id": "6F53m_RpAhpg",
        "colab_type": "code",
        "outputId": "f25a7e99-590e-4673-86d9-46db8a36f81a",
        "colab": {
          "base_uri": "https://localhost:8080/",
          "height": 204
        }
      },
      "source": [
        "df.columns = ['labels', 'data']\n",
        "df.head()"
      ],
      "execution_count": 0,
      "outputs": [
        {
          "output_type": "execute_result",
          "data": {
            "text/html": [
              "<div>\n",
              "<style scoped>\n",
              "    .dataframe tbody tr th:only-of-type {\n",
              "        vertical-align: middle;\n",
              "    }\n",
              "\n",
              "    .dataframe tbody tr th {\n",
              "        vertical-align: top;\n",
              "    }\n",
              "\n",
              "    .dataframe thead th {\n",
              "        text-align: right;\n",
              "    }\n",
              "</style>\n",
              "<table border=\"1\" class=\"dataframe\">\n",
              "  <thead>\n",
              "    <tr style=\"text-align: right;\">\n",
              "      <th></th>\n",
              "      <th>labels</th>\n",
              "      <th>data</th>\n",
              "    </tr>\n",
              "  </thead>\n",
              "  <tbody>\n",
              "    <tr>\n",
              "      <th>0</th>\n",
              "      <td>ham</td>\n",
              "      <td>Go until jurong point, crazy.. Available only ...</td>\n",
              "    </tr>\n",
              "    <tr>\n",
              "      <th>1</th>\n",
              "      <td>ham</td>\n",
              "      <td>Ok lar... Joking wif u oni...</td>\n",
              "    </tr>\n",
              "    <tr>\n",
              "      <th>2</th>\n",
              "      <td>spam</td>\n",
              "      <td>Free entry in 2 a wkly comp to win FA Cup fina...</td>\n",
              "    </tr>\n",
              "    <tr>\n",
              "      <th>3</th>\n",
              "      <td>ham</td>\n",
              "      <td>U dun say so early hor... U c already then say...</td>\n",
              "    </tr>\n",
              "    <tr>\n",
              "      <th>4</th>\n",
              "      <td>ham</td>\n",
              "      <td>Nah I don't think he goes to usf, he lives aro...</td>\n",
              "    </tr>\n",
              "  </tbody>\n",
              "</table>\n",
              "</div>"
            ],
            "text/plain": [
              "  labels                                               data\n",
              "0    ham  Go until jurong point, crazy.. Available only ...\n",
              "1    ham                      Ok lar... Joking wif u oni...\n",
              "2   spam  Free entry in 2 a wkly comp to win FA Cup fina...\n",
              "3    ham  U dun say so early hor... U c already then say...\n",
              "4    ham  Nah I don't think he goes to usf, he lives aro..."
            ]
          },
          "metadata": {
            "tags": []
          },
          "execution_count": 11
        }
      ]
    },
    {
      "cell_type": "code",
      "metadata": {
        "id": "wCTAtEVQAs7F",
        "colab_type": "code",
        "colab": {}
      },
      "source": [
        "df['b_labels'] = df['labels'].map({'ham': 0, 'spam': 1})\n",
        "Y = df['b_labels'].values"
      ],
      "execution_count": 0,
      "outputs": []
    },
    {
      "cell_type": "code",
      "metadata": {
        "id": "9r3dJK1kCTmY",
        "colab_type": "code",
        "colab": {}
      },
      "source": [
        "df_train, df_test, Y_train, Y_test = train_test_split(df['data'], Y, test_size = 0.33)"
      ],
      "execution_count": 0,
      "outputs": []
    },
    {
      "cell_type": "code",
      "metadata": {
        "id": "_HuOwxcjDJY2",
        "colab_type": "code",
        "colab": {}
      },
      "source": [
        "MAX_VOCAB_SIZE = 20000\n",
        "tokenizer = Tokenizer(num_words=MAX_VOCAB_SIZE)\n",
        "tokenizer.fit_on_texts(df_train)\n",
        "sequences_train = tokenizer.texts_to_sequences(df_train)\n",
        "sequences_test = tokenizer.texts_to_sequences(df_test)\n"
      ],
      "execution_count": 0,
      "outputs": []
    },
    {
      "cell_type": "code",
      "metadata": {
        "id": "Wj33fwc_Ds0K",
        "colab_type": "code",
        "outputId": "57228a82-fb38-4b2c-e8bb-1a1cf44ca63c",
        "colab": {
          "base_uri": "https://localhost:8080/",
          "height": 34
        }
      },
      "source": [
        "word2idx = tokenizer.word_index\n",
        "V = len(word2idx)\n",
        "print('Se han encontrado %s tokens unicos' % V)"
      ],
      "execution_count": 0,
      "outputs": [
        {
          "output_type": "stream",
          "text": [
            "Se han encontrado 7269 tokens unicos\n"
          ],
          "name": "stdout"
        }
      ]
    },
    {
      "cell_type": "code",
      "metadata": {
        "id": "ELPS4RTUEIG9",
        "colab_type": "code",
        "outputId": "c0e3b9ad-8424-4ce9-b18d-353f5f037a73",
        "colab": {
          "base_uri": "https://localhost:8080/",
          "height": 34
        }
      },
      "source": [
        "data_train = pad_sequences(sequences_train)\n",
        "print('Tamaño de el tensor de datos de entrenamiento:', data_train.shape)"
      ],
      "execution_count": 0,
      "outputs": [
        {
          "output_type": "stream",
          "text": [
            "Tamaño de el tensor de datos de entrenamiento: (3733, 189)\n"
          ],
          "name": "stdout"
        }
      ]
    },
    {
      "cell_type": "code",
      "metadata": {
        "id": "rtMcU_EOEsGH",
        "colab_type": "code",
        "outputId": "efbb3e07-d2e2-4d7e-f45c-45cc74090331",
        "colab": {
          "base_uri": "https://localhost:8080/",
          "height": 51
        }
      },
      "source": [
        "T = data_train.shape[1]\n",
        "print(T)\n",
        "data_test = pad_sequences(sequences_test, maxlen = T)\n",
        "print('Tamaño de el tensor de datos de prueba:', data_test.shape)"
      ],
      "execution_count": 0,
      "outputs": [
        {
          "output_type": "stream",
          "text": [
            "189\n",
            "Tamaño de el tensor de datos de prueba: (1839, 189)\n"
          ],
          "name": "stdout"
        }
      ]
    },
    {
      "cell_type": "code",
      "metadata": {
        "id": "p-FeQFP0KrjP",
        "colab_type": "code",
        "colab": {}
      },
      "source": [
        ""
      ],
      "execution_count": 0,
      "outputs": []
    },
    {
      "cell_type": "code",
      "metadata": {
        "id": "JqVOYh3cFOYM",
        "colab_type": "code",
        "colab": {}
      },
      "source": [
        "D = 20\n",
        "M = 15\n",
        "\n",
        "i = Input(shape=(T,))\n",
        "x = Embedding(V + 1, D)(i)\n",
        "x = LSTM(M, return_sequences=True)(x)\n",
        "x = GlobalMaxPooling1D()(x)\n",
        "x = Dense(1, activation='sigmoid')(x)\n",
        "\n",
        "model = Model(i, x)\n",
        "\n"
      ],
      "execution_count": 0,
      "outputs": []
    },
    {
      "cell_type": "code",
      "metadata": {
        "id": "S00ZA-ADHCvR",
        "colab_type": "code",
        "outputId": "8303648e-03c2-4efd-de47-90f78d36ed9c",
        "colab": {
          "base_uri": "https://localhost:8080/",
          "height": 1000
        }
      },
      "source": [
        "model.compile(\n",
        "    loss= 'binary_crossentropy',\n",
        "    optimizer = 'adam',\n",
        "    metrics = ['accuracy']\n",
        ")\n",
        "\n",
        "print('A entrenar!!...')\n",
        "\n",
        "r = model.fit(\n",
        "    data_train,\n",
        "    Y_train,\n",
        "    epochs = 30,\n",
        "    validation_data = (data_test, Y_test)\n",
        ")"
      ],
      "execution_count": 0,
      "outputs": [
        {
          "output_type": "stream",
          "text": [
            "A entrenar!!...\n",
            "Train on 3733 samples, validate on 1839 samples\n",
            "Epoch 1/30\n",
            "3733/3733 [==============================] - 4s 1ms/sample - loss: 0.0362 - accuracy: 0.9938 - val_loss: 0.0617 - val_accuracy: 0.9859\n",
            "Epoch 2/30\n",
            "3733/3733 [==============================] - 2s 477us/sample - loss: 0.0260 - accuracy: 0.9960 - val_loss: 0.0577 - val_accuracy: 0.9842\n",
            "Epoch 3/30\n",
            "3733/3733 [==============================] - 2s 495us/sample - loss: 0.0198 - accuracy: 0.9971 - val_loss: 0.0562 - val_accuracy: 0.9837\n",
            "Epoch 4/30\n",
            "3733/3733 [==============================] - 2s 472us/sample - loss: 0.0160 - accuracy: 0.9971 - val_loss: 0.0572 - val_accuracy: 0.9853\n",
            "Epoch 5/30\n",
            "3733/3733 [==============================] - 2s 523us/sample - loss: 0.0132 - accuracy: 0.9973 - val_loss: 0.0592 - val_accuracy: 0.9831\n",
            "Epoch 6/30\n",
            "3733/3733 [==============================] - 2s 478us/sample - loss: 0.0113 - accuracy: 0.9976 - val_loss: 0.0665 - val_accuracy: 0.9826\n",
            "Epoch 7/30\n",
            "3733/3733 [==============================] - 2s 470us/sample - loss: 0.0106 - accuracy: 0.9976 - val_loss: 0.0617 - val_accuracy: 0.9821\n",
            "Epoch 8/30\n",
            "3733/3733 [==============================] - 2s 475us/sample - loss: 0.0109 - accuracy: 0.9976 - val_loss: 0.0620 - val_accuracy: 0.9821\n",
            "Epoch 9/30\n",
            "3733/3733 [==============================] - 2s 477us/sample - loss: 0.0081 - accuracy: 0.9989 - val_loss: 0.0621 - val_accuracy: 0.9831\n",
            "Epoch 10/30\n",
            "3733/3733 [==============================] - 2s 478us/sample - loss: 0.0071 - accuracy: 0.9995 - val_loss: 0.0625 - val_accuracy: 0.9826\n",
            "Epoch 11/30\n",
            "3733/3733 [==============================] - 2s 487us/sample - loss: 0.0064 - accuracy: 0.9995 - val_loss: 0.0633 - val_accuracy: 0.9831\n",
            "Epoch 12/30\n",
            "3733/3733 [==============================] - 2s 468us/sample - loss: 0.0058 - accuracy: 0.9995 - val_loss: 0.0644 - val_accuracy: 0.9837\n",
            "Epoch 13/30\n",
            "3733/3733 [==============================] - 2s 478us/sample - loss: 0.0054 - accuracy: 0.9995 - val_loss: 0.0631 - val_accuracy: 0.9837\n",
            "Epoch 14/30\n",
            "3733/3733 [==============================] - 2s 472us/sample - loss: 0.0046 - accuracy: 0.9995 - val_loss: 0.0658 - val_accuracy: 0.9837\n",
            "Epoch 15/30\n",
            "3733/3733 [==============================] - 2s 474us/sample - loss: 0.0031 - accuracy: 0.9995 - val_loss: 0.0665 - val_accuracy: 0.9831\n",
            "Epoch 16/30\n",
            "3733/3733 [==============================] - 2s 481us/sample - loss: 0.0028 - accuracy: 0.9995 - val_loss: 0.0677 - val_accuracy: 0.9837\n",
            "Epoch 17/30\n",
            "3733/3733 [==============================] - 2s 472us/sample - loss: 0.0025 - accuracy: 0.9995 - val_loss: 0.0688 - val_accuracy: 0.9837\n",
            "Epoch 18/30\n",
            "3733/3733 [==============================] - 2s 480us/sample - loss: 0.0023 - accuracy: 0.9995 - val_loss: 0.0689 - val_accuracy: 0.9837\n",
            "Epoch 19/30\n",
            "3733/3733 [==============================] - 2s 486us/sample - loss: 0.0021 - accuracy: 0.9995 - val_loss: 0.0697 - val_accuracy: 0.9837\n",
            "Epoch 20/30\n",
            "3733/3733 [==============================] - 2s 532us/sample - loss: 0.0020 - accuracy: 0.9995 - val_loss: 0.0702 - val_accuracy: 0.9831\n",
            "Epoch 21/30\n",
            "3733/3733 [==============================] - 2s 467us/sample - loss: 0.0019 - accuracy: 0.9995 - val_loss: 0.0720 - val_accuracy: 0.9837\n",
            "Epoch 22/30\n",
            "3733/3733 [==============================] - 2s 480us/sample - loss: 0.0018 - accuracy: 0.9997 - val_loss: 0.0720 - val_accuracy: 0.9842\n",
            "Epoch 23/30\n",
            "3733/3733 [==============================] - 2s 486us/sample - loss: 0.0016 - accuracy: 0.9997 - val_loss: 0.0726 - val_accuracy: 0.9842\n",
            "Epoch 24/30\n",
            "3733/3733 [==============================] - 2s 480us/sample - loss: 0.0015 - accuracy: 1.0000 - val_loss: 0.0738 - val_accuracy: 0.9837\n",
            "Epoch 25/30\n",
            "3733/3733 [==============================] - 2s 488us/sample - loss: 0.0013 - accuracy: 1.0000 - val_loss: 0.0745 - val_accuracy: 0.9837\n",
            "Epoch 26/30\n",
            "3733/3733 [==============================] - 2s 477us/sample - loss: 0.0013 - accuracy: 1.0000 - val_loss: 0.0756 - val_accuracy: 0.9837\n",
            "Epoch 27/30\n",
            "3733/3733 [==============================] - 2s 490us/sample - loss: 0.0011 - accuracy: 1.0000 - val_loss: 0.0776 - val_accuracy: 0.9848\n",
            "Epoch 28/30\n",
            "3733/3733 [==============================] - 2s 472us/sample - loss: 0.0010 - accuracy: 1.0000 - val_loss: 0.0771 - val_accuracy: 0.9837\n",
            "Epoch 29/30\n",
            "3733/3733 [==============================] - 2s 485us/sample - loss: 9.3268e-04 - accuracy: 1.0000 - val_loss: 0.0813 - val_accuracy: 0.9842\n",
            "Epoch 30/30\n",
            "3733/3733 [==============================] - 2s 484us/sample - loss: 8.5852e-04 - accuracy: 1.0000 - val_loss: 0.0793 - val_accuracy: 0.9837\n"
          ],
          "name": "stdout"
        }
      ]
    },
    {
      "cell_type": "code",
      "metadata": {
        "id": "Oewp3UeCIUeO",
        "colab_type": "code",
        "outputId": "9006eb1c-945c-4142-b3ab-f98331dbdc69",
        "colab": {
          "base_uri": "https://localhost:8080/",
          "height": 282
        }
      },
      "source": [
        "plt.plot(r.history['loss'], label='loss')\n",
        "plt.plot(r.history['val_loss'], label='val_loss')\n",
        "plt.legend()"
      ],
      "execution_count": 0,
      "outputs": [
        {
          "output_type": "execute_result",
          "data": {
            "text/plain": [
              "<matplotlib.legend.Legend at 0x7fbf68933d68>"
            ]
          },
          "metadata": {
            "tags": []
          },
          "execution_count": 23
        },
        {
          "output_type": "display_data",
          "data": {
            "image/png": "[encoded data removed]",
            "text/plain": [
              "<Figure size 432x288 with 1 Axes>"
            ]
          },
          "metadata": {
            "tags": []
          }
        }
      ]
    },
    {
      "cell_type": "code",
      "metadata": {
        "id": "FO70j5s1IYN8",
        "colab_type": "code",
        "outputId": "f8956e5c-ea75-48e3-9936-e6beb97f5264",
        "colab": {
          "base_uri": "https://localhost:8080/",
          "height": 282
        }
      },
      "source": [
        "plt.plot(r.history['accuracy'], label='accuracy')\n",
        "plt.plot(r.history['val_accuracy'], label='val_accuracy')\n",
        "plt.legend()"
      ],
      "execution_count": 0,
      "outputs": [
        {
          "output_type": "execute_result",
          "data": {
            "text/plain": [
              "<matplotlib.legend.Legend at 0x7fbf68866940>"
            ]
          },
          "metadata": {
            "tags": []
          },
          "execution_count": 24
        },
        {
          "output_type": "display_data",
          "data": {
            "image/png": "[encoded data removed]",
            "text/plain": [
              "<Figure size 432x288 with 1 Axes>"
            ]
          },
          "metadata": {
            "tags": []
          }
        }
      ]
    },
    {
      "cell_type": "code",
      "metadata": {
        "id": "SDWHYrgEKZMU",
        "colab_type": "code",
        "colab": {}
      },
      "source": [
        ""
      ],
      "execution_count": 0,
      "outputs": []
    }
  ]
}