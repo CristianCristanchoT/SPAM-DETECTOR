{
  "nbformat": 4,
  "nbformat_minor": 0,
  "metadata": {
    "colab": {
      "name": "TF2 SPAM DETECTION CNN.ipynb",
      "provenance": [],
      "collapsed_sections": [],
      "authorship_tag": "ABX9TyPAt71HKrOjysC6vyBdZQL8"
    },
    "kernelspec": {
      "name": "python3",
      "display_name": "Python 3"
    },
    "accelerator": "GPU"
  },
  "cells": [
    {
      "cell_type": "code",
      "metadata": {
        "id": "dos2ctuOB0YH",
        "colab_type": "code",
        "outputId": "04027784-a1e5-4ab6-ff89-bd0ea3d75461",
        "colab": {
          "base_uri": "https://localhost:8080/",
          "height": 34
        }
      },
      "source": [
        "!pip install -q tensorflow-gpu==2.0.0"
      ],
      "execution_count": 0,
      "outputs": [
        {
          "output_type": "stream",
          "text": [
            "\u001b[31mERROR: Operation cancelled by user\u001b[0m\n"
          ],
          "name": "stdout"
        }
      ]
    },
    {
      "cell_type": "code",
      "metadata": {
        "id": "AJkljsJeB8pF",
        "colab_type": "code",
        "colab": {}
      },
      "source": [
        "import tensorflow as tf\n",
        "import numpy as np\n",
        "import matplotlib.pyplot as plt\n",
        "import pandas as pd\n",
        "from sklearn.model_selection import train_test_split\n",
        "\n",
        "from tensorflow.keras.preprocessing.text import Tokenizer\n",
        "from tensorflow.keras.preprocessing.sequence import pad_sequences\n",
        "from tensorflow.keras.layers import Dense, Input, GlobalMaxPooling1D\n",
        "from tensorflow.keras.layers import  Conv1D, MaxPooling1D, Embedding\n",
        "from tensorflow.keras.models import Model\n",
        "\n"
      ],
      "execution_count": 0,
      "outputs": []
    },
    {
      "cell_type": "code",
      "metadata": {
        "id": "0ApSSrDaMpku",
        "colab_type": "code",
        "outputId": "6bc931e2-fcd0-484e-fffa-4e92b013ca11",
        "colab": {
          "base_uri": "https://localhost:8080/",
          "height": 204
        }
      },
      "source": [
        "!wget https://lazyprogrammer.me/course_files/spam.csv"
      ],
      "execution_count": 0,
      "outputs": [
        {
          "output_type": "stream",
          "text": [
            "--2020-02-20 01:32:03--  https://lazyprogrammer.me/course_files/spam.csv\n",
            "Resolving lazyprogrammer.me (lazyprogrammer.me)... 104.31.80.48, 104.31.81.48, 2606:4700:3035::681f:5130, ...\n",
            "Connecting to lazyprogrammer.me (lazyprogrammer.me)|104.31.80.48|:443... connected.\n",
            "HTTP request sent, awaiting response... 200 OK\n",
            "Length: 503663 (492K) [text/csv]\n",
            "Saving to: ‘spam.csv.1’\n",
            "\n",
            "\rspam.csv.1            0%[                    ]       0  --.-KB/s               \rspam.csv.1          100%[===================>] 491.86K  --.-KB/s    in 0.02s   \n",
            "\n",
            "2020-02-20 01:32:03 (28.6 MB/s) - ‘spam.csv.1’ saved [503663/503663]\n",
            "\n"
          ],
          "name": "stdout"
        }
      ]
    },
    {
      "cell_type": "code",
      "metadata": {
        "id": "FVYQgZLGNVEW",
        "colab_type": "code",
        "outputId": "ed916f3a-77c9-4297-f82b-7d1f4e23c959",
        "colab": {
          "base_uri": "https://localhost:8080/",
          "height": 204
        }
      },
      "source": [
        "df = pd.read_csv('spam.csv', encoding = 'ISO-8859-1')\n",
        "df.head()"
      ],
      "execution_count": 0,
      "outputs": [
        {
          "output_type": "execute_result",
          "data": {
            "text/html": [
              "<div>\n",
              "<style scoped>\n",
              "    .dataframe tbody tr th:only-of-type {\n",
              "        vertical-align: middle;\n",
              "    }\n",
              "\n",
              "    .dataframe tbody tr th {\n",
              "        vertical-align: top;\n",
              "    }\n",
              "\n",
              "    .dataframe thead th {\n",
              "        text-align: right;\n",
              "    }\n",
              "</style>\n",
              "<table border=\"1\" class=\"dataframe\">\n",
              "  <thead>\n",
              "    <tr style=\"text-align: right;\">\n",
              "      <th></th>\n",
              "      <th>v1</th>\n",
              "      <th>v2</th>\n",
              "      <th>Unnamed: 2</th>\n",
              "      <th>Unnamed: 3</th>\n",
              "      <th>Unnamed: 4</th>\n",
              "    </tr>\n",
              "  </thead>\n",
              "  <tbody>\n",
              "    <tr>\n",
              "      <th>0</th>\n",
              "      <td>ham</td>\n",
              "      <td>Go until jurong point, crazy.. Available only ...</td>\n",
              "      <td>NaN</td>\n",
              "      <td>NaN</td>\n",
              "      <td>NaN</td>\n",
              "    </tr>\n",
              "    <tr>\n",
              "      <th>1</th>\n",
              "      <td>ham</td>\n",
              "      <td>Ok lar... Joking wif u oni...</td>\n",
              "      <td>NaN</td>\n",
              "      <td>NaN</td>\n",
              "      <td>NaN</td>\n",
              "    </tr>\n",
              "    <tr>\n",
              "      <th>2</th>\n",
              "      <td>spam</td>\n",
              "      <td>Free entry in 2 a wkly comp to win FA Cup fina...</td>\n",
              "      <td>NaN</td>\n",
              "      <td>NaN</td>\n",
              "      <td>NaN</td>\n",
              "    </tr>\n",
              "    <tr>\n",
              "      <th>3</th>\n",
              "      <td>ham</td>\n",
              "      <td>U dun say so early hor... U c already then say...</td>\n",
              "      <td>NaN</td>\n",
              "      <td>NaN</td>\n",
              "      <td>NaN</td>\n",
              "    </tr>\n",
              "    <tr>\n",
              "      <th>4</th>\n",
              "      <td>ham</td>\n",
              "      <td>Nah I don't think he goes to usf, he lives aro...</td>\n",
              "      <td>NaN</td>\n",
              "      <td>NaN</td>\n",
              "      <td>NaN</td>\n",
              "    </tr>\n",
              "  </tbody>\n",
              "</table>\n",
              "</div>"
            ],
            "text/plain": [
              "     v1  ... Unnamed: 4\n",
              "0   ham  ...        NaN\n",
              "1   ham  ...        NaN\n",
              "2  spam  ...        NaN\n",
              "3   ham  ...        NaN\n",
              "4   ham  ...        NaN\n",
              "\n",
              "[5 rows x 5 columns]"
            ]
          },
          "metadata": {
            "tags": []
          },
          "execution_count": 10
        }
      ]
    },
    {
      "cell_type": "code",
      "metadata": {
        "id": "LOIikFuIObG9",
        "colab_type": "code",
        "outputId": "9ef9a1e7-01c2-468e-fc96-f436be03c01f",
        "colab": {
          "base_uri": "https://localhost:8080/",
          "height": 204
        }
      },
      "source": [
        "df = df.drop([\"Unnamed: 2\", \"Unnamed: 3\", \"Unnamed: 4\"], axis=1)\n",
        "df.head()"
      ],
      "execution_count": 0,
      "outputs": [
        {
          "output_type": "execute_result",
          "data": {
            "text/html": [
              "<div>\n",
              "<style scoped>\n",
              "    .dataframe tbody tr th:only-of-type {\n",
              "        vertical-align: middle;\n",
              "    }\n",
              "\n",
              "    .dataframe tbody tr th {\n",
              "        vertical-align: top;\n",
              "    }\n",
              "\n",
              "    .dataframe thead th {\n",
              "        text-align: right;\n",
              "    }\n",
              "</style>\n",
              "<table border=\"1\" class=\"dataframe\">\n",
              "  <thead>\n",
              "    <tr style=\"text-align: right;\">\n",
              "      <th></th>\n",
              "      <th>v1</th>\n",
              "      <th>v2</th>\n",
              "    </tr>\n",
              "  </thead>\n",
              "  <tbody>\n",
              "    <tr>\n",
              "      <th>0</th>\n",
              "      <td>ham</td>\n",
              "      <td>Go until jurong point, crazy.. Available only ...</td>\n",
              "    </tr>\n",
              "    <tr>\n",
              "      <th>1</th>\n",
              "      <td>ham</td>\n",
              "      <td>Ok lar... Joking wif u oni...</td>\n",
              "    </tr>\n",
              "    <tr>\n",
              "      <th>2</th>\n",
              "      <td>spam</td>\n",
              "      <td>Free entry in 2 a wkly comp to win FA Cup fina...</td>\n",
              "    </tr>\n",
              "    <tr>\n",
              "      <th>3</th>\n",
              "      <td>ham</td>\n",
              "      <td>U dun say so early hor... U c already then say...</td>\n",
              "    </tr>\n",
              "    <tr>\n",
              "      <th>4</th>\n",
              "      <td>ham</td>\n",
              "      <td>Nah I don't think he goes to usf, he lives aro...</td>\n",
              "    </tr>\n",
              "  </tbody>\n",
              "</table>\n",
              "</div>"
            ],
            "text/plain": [
              "     v1                                                 v2\n",
              "0   ham  Go until jurong point, crazy.. Available only ...\n",
              "1   ham                      Ok lar... Joking wif u oni...\n",
              "2  spam  Free entry in 2 a wkly comp to win FA Cup fina...\n",
              "3   ham  U dun say so early hor... U c already then say...\n",
              "4   ham  Nah I don't think he goes to usf, he lives aro..."
            ]
          },
          "metadata": {
            "tags": []
          },
          "execution_count": 11
        }
      ]
    },
    {
      "cell_type": "code",
      "metadata": {
        "id": "GbBBFNd6Oj_a",
        "colab_type": "code",
        "outputId": "74767edf-f1d0-4acf-b0ef-04e4885cdcd4",
        "colab": {
          "base_uri": "https://localhost:8080/",
          "height": 204
        }
      },
      "source": [
        "df.columns = ['labels', 'data']\n",
        "df.head()"
      ],
      "execution_count": 0,
      "outputs": [
        {
          "output_type": "execute_result",
          "data": {
            "text/html": [
              "<div>\n",
              "<style scoped>\n",
              "    .dataframe tbody tr th:only-of-type {\n",
              "        vertical-align: middle;\n",
              "    }\n",
              "\n",
              "    .dataframe tbody tr th {\n",
              "        vertical-align: top;\n",
              "    }\n",
              "\n",
              "    .dataframe thead th {\n",
              "        text-align: right;\n",
              "    }\n",
              "</style>\n",
              "<table border=\"1\" class=\"dataframe\">\n",
              "  <thead>\n",
              "    <tr style=\"text-align: right;\">\n",
              "      <th></th>\n",
              "      <th>labels</th>\n",
              "      <th>data</th>\n",
              "    </tr>\n",
              "  </thead>\n",
              "  <tbody>\n",
              "    <tr>\n",
              "      <th>0</th>\n",
              "      <td>ham</td>\n",
              "      <td>Go until jurong point, crazy.. Available only ...</td>\n",
              "    </tr>\n",
              "    <tr>\n",
              "      <th>1</th>\n",
              "      <td>ham</td>\n",
              "      <td>Ok lar... Joking wif u oni...</td>\n",
              "    </tr>\n",
              "    <tr>\n",
              "      <th>2</th>\n",
              "      <td>spam</td>\n",
              "      <td>Free entry in 2 a wkly comp to win FA Cup fina...</td>\n",
              "    </tr>\n",
              "    <tr>\n",
              "      <th>3</th>\n",
              "      <td>ham</td>\n",
              "      <td>U dun say so early hor... U c already then say...</td>\n",
              "    </tr>\n",
              "    <tr>\n",
              "      <th>4</th>\n",
              "      <td>ham</td>\n",
              "      <td>Nah I don't think he goes to usf, he lives aro...</td>\n",
              "    </tr>\n",
              "  </tbody>\n",
              "</table>\n",
              "</div>"
            ],
            "text/plain": [
              "  labels                                               data\n",
              "0    ham  Go until jurong point, crazy.. Available only ...\n",
              "1    ham                      Ok lar... Joking wif u oni...\n",
              "2   spam  Free entry in 2 a wkly comp to win FA Cup fina...\n",
              "3    ham  U dun say so early hor... U c already then say...\n",
              "4    ham  Nah I don't think he goes to usf, he lives aro..."
            ]
          },
          "metadata": {
            "tags": []
          },
          "execution_count": 12
        }
      ]
    },
    {
      "cell_type": "code",
      "metadata": {
        "id": "NS0krnGAOujR",
        "colab_type": "code",
        "outputId": "ee763ff5-f79b-4e6c-ade8-42485b82388d",
        "colab": {
          "base_uri": "https://localhost:8080/",
          "height": 204
        }
      },
      "source": [
        "df['b_labels'] = df['labels'].map({'ham': 0, 'spam': 1})\n",
        "Y = df['b_labels'].values\n",
        "df.head()"
      ],
      "execution_count": 0,
      "outputs": [
        {
          "output_type": "execute_result",
          "data": {
            "text/html": [
              "<div>\n",
              "<style scoped>\n",
              "    .dataframe tbody tr th:only-of-type {\n",
              "        vertical-align: middle;\n",
              "    }\n",
              "\n",
              "    .dataframe tbody tr th {\n",
              "        vertical-align: top;\n",
              "    }\n",
              "\n",
              "    .dataframe thead th {\n",
              "        text-align: right;\n",
              "    }\n",
              "</style>\n",
              "<table border=\"1\" class=\"dataframe\">\n",
              "  <thead>\n",
              "    <tr style=\"text-align: right;\">\n",
              "      <th></th>\n",
              "      <th>labels</th>\n",
              "      <th>data</th>\n",
              "      <th>b_labels</th>\n",
              "    </tr>\n",
              "  </thead>\n",
              "  <tbody>\n",
              "    <tr>\n",
              "      <th>0</th>\n",
              "      <td>ham</td>\n",
              "      <td>Go until jurong point, crazy.. Available only ...</td>\n",
              "      <td>0</td>\n",
              "    </tr>\n",
              "    <tr>\n",
              "      <th>1</th>\n",
              "      <td>ham</td>\n",
              "      <td>Ok lar... Joking wif u oni...</td>\n",
              "      <td>0</td>\n",
              "    </tr>\n",
              "    <tr>\n",
              "      <th>2</th>\n",
              "      <td>spam</td>\n",
              "      <td>Free entry in 2 a wkly comp to win FA Cup fina...</td>\n",
              "      <td>1</td>\n",
              "    </tr>\n",
              "    <tr>\n",
              "      <th>3</th>\n",
              "      <td>ham</td>\n",
              "      <td>U dun say so early hor... U c already then say...</td>\n",
              "      <td>0</td>\n",
              "    </tr>\n",
              "    <tr>\n",
              "      <th>4</th>\n",
              "      <td>ham</td>\n",
              "      <td>Nah I don't think he goes to usf, he lives aro...</td>\n",
              "      <td>0</td>\n",
              "    </tr>\n",
              "  </tbody>\n",
              "</table>\n",
              "</div>"
            ],
            "text/plain": [
              "  labels                                               data  b_labels\n",
              "0    ham  Go until jurong point, crazy.. Available only ...         0\n",
              "1    ham                      Ok lar... Joking wif u oni...         0\n",
              "2   spam  Free entry in 2 a wkly comp to win FA Cup fina...         1\n",
              "3    ham  U dun say so early hor... U c already then say...         0\n",
              "4    ham  Nah I don't think he goes to usf, he lives aro...         0"
            ]
          },
          "metadata": {
            "tags": []
          },
          "execution_count": 14
        }
      ]
    },
    {
      "cell_type": "code",
      "metadata": {
        "id": "SCwanWyFOx7o",
        "colab_type": "code",
        "colab": {}
      },
      "source": [
        "df_train, df_test, Y_train, Y_test = train_test_split(df['data'], Y, test_size = 0.33)"
      ],
      "execution_count": 0,
      "outputs": []
    },
    {
      "cell_type": "code",
      "metadata": {
        "id": "oRXYT4CiO55G",
        "colab_type": "code",
        "colab": {}
      },
      "source": [
        "MAX_VOCAB_SIZE = 20000\n",
        "tokenizer = Tokenizer(num_words=MAX_VOCAB_SIZE)\n",
        "tokenizer.fit_on_texts(df_train)\n",
        "sequences_train = tokenizer.texts_to_sequences(df_train)\n",
        "sequences_test = tokenizer.texts_to_sequences(df_test)"
      ],
      "execution_count": 0,
      "outputs": []
    },
    {
      "cell_type": "code",
      "metadata": {
        "id": "l0J1OGoAO93e",
        "colab_type": "code",
        "outputId": "c5035d79-1c3a-4e02-ac49-5b747277bfca",
        "colab": {
          "base_uri": "https://localhost:8080/",
          "height": 34
        }
      },
      "source": [
        "word2idx = tokenizer.word_index\n",
        "V = len(word2idx)\n",
        "print('Se han encontrado %s tokens unicos' % V)"
      ],
      "execution_count": 0,
      "outputs": [
        {
          "output_type": "stream",
          "text": [
            "Se han encontrado 7222 tokens unicos\n"
          ],
          "name": "stdout"
        }
      ]
    },
    {
      "cell_type": "code",
      "metadata": {
        "id": "g4HbcbFwPUjj",
        "colab_type": "code",
        "outputId": "7bd0d70d-5b4e-4bfd-c9cb-9c9582d240c2",
        "colab": {
          "base_uri": "https://localhost:8080/",
          "height": 34
        }
      },
      "source": [
        "data_train = pad_sequences(sequences_train)\n",
        "print('Tamaño de el tensor de datos de entrenamiento:', data_train.shape)"
      ],
      "execution_count": 0,
      "outputs": [
        {
          "output_type": "stream",
          "text": [
            "Tamaño de el tensor de datos de entrenamiento: (3733, 189)\n"
          ],
          "name": "stdout"
        }
      ]
    },
    {
      "cell_type": "code",
      "metadata": {
        "id": "c3c_SXBoPVs7",
        "colab_type": "code",
        "outputId": "e8cfc680-cd8f-4cdd-d182-dc9841a02c1c",
        "colab": {
          "base_uri": "https://localhost:8080/",
          "height": 51
        }
      },
      "source": [
        "T = data_train.shape[1]\n",
        "print(T)\n",
        "data_test = pad_sequences(sequences_test, maxlen = T)\n",
        "print('Tamaño de el tensor de datos de prueba:', data_test.shape)"
      ],
      "execution_count": 0,
      "outputs": [
        {
          "output_type": "stream",
          "text": [
            "189\n",
            "Tamaño de el tensor de datos de prueba: (1839, 189)\n"
          ],
          "name": "stdout"
        }
      ]
    },
    {
      "cell_type": "code",
      "metadata": {
        "id": "oB-MCqDyPcc5",
        "colab_type": "code",
        "colab": {}
      },
      "source": [
        "D = 20\n",
        "\n",
        "i = Input(shape=(T,))\n",
        "x = Embedding(V + 1, D)(i)\n",
        "x = Conv1D(32, 3, activation='relu')(x)\n",
        "x = MaxPooling1D(3)(x)\n",
        "x = Conv1D(64, 3, activation='relu')(x)\n",
        "x = MaxPooling1D(3)(x)\n",
        "x = Conv1D(128, 3, activation='relu')(x)\n",
        "x = GlobalMaxPooling1D()(x)\n",
        "x = Dense(1, activation='sigmoid')(x)\n",
        "\n",
        "model = Model(i, x)"
      ],
      "execution_count": 0,
      "outputs": []
    },
    {
      "cell_type": "code",
      "metadata": {
        "id": "jfoaH7AdQgPE",
        "colab_type": "code",
        "outputId": "5a7cd795-b3d1-41e4-c407-5317332e99d6",
        "colab": {
          "base_uri": "https://localhost:8080/",
          "height": 1000
        }
      },
      "source": [
        "model.compile(\n",
        "    loss= 'binary_crossentropy',\n",
        "    optimizer = 'adam',\n",
        "    metrics = ['accuracy']\n",
        ")\n",
        "\n",
        "print('A entrenar!!...')\n",
        "\n",
        "r = model.fit(\n",
        "    data_train,\n",
        "    Y_train,\n",
        "    epochs = 30,\n",
        "    validation_data = (data_test, Y_test)\n",
        ")"
      ],
      "execution_count": 0,
      "outputs": [
        {
          "output_type": "stream",
          "text": [
            "A entrenar!!...\n",
            "Train on 3733 samples, validate on 1839 samples\n",
            "Epoch 1/30\n",
            "3733/3733 [==============================] - 9s 2ms/sample - loss: 0.3825 - accuracy: 0.8634 - val_loss: 0.2647 - val_accuracy: 0.8684\n",
            "Epoch 2/30\n",
            "3733/3733 [==============================] - 1s 264us/sample - loss: 0.1086 - accuracy: 0.9628 - val_loss: 0.1578 - val_accuracy: 0.9652\n",
            "Epoch 3/30\n",
            "3733/3733 [==============================] - 1s 271us/sample - loss: 0.0212 - accuracy: 0.9938 - val_loss: 0.0719 - val_accuracy: 0.9826\n",
            "Epoch 4/30\n",
            "3733/3733 [==============================] - 1s 277us/sample - loss: 0.0042 - accuracy: 0.9997 - val_loss: 0.0924 - val_accuracy: 0.9815\n",
            "Epoch 5/30\n",
            "3733/3733 [==============================] - 1s 288us/sample - loss: 0.0021 - accuracy: 0.9997 - val_loss: 0.0829 - val_accuracy: 0.9831\n",
            "Epoch 6/30\n",
            "3733/3733 [==============================] - 1s 295us/sample - loss: 0.0015 - accuracy: 0.9997 - val_loss: 0.0922 - val_accuracy: 0.9826\n",
            "Epoch 7/30\n",
            "3733/3733 [==============================] - 1s 275us/sample - loss: 0.0014 - accuracy: 0.9997 - val_loss: 0.0953 - val_accuracy: 0.9831\n",
            "Epoch 8/30\n",
            "3733/3733 [==============================] - 1s 272us/sample - loss: 0.0011 - accuracy: 0.9997 - val_loss: 0.1017 - val_accuracy: 0.9821\n",
            "Epoch 9/30\n",
            "3733/3733 [==============================] - 1s 296us/sample - loss: 9.7153e-04 - accuracy: 0.9997 - val_loss: 0.1055 - val_accuracy: 0.9821\n",
            "Epoch 10/30\n",
            "3733/3733 [==============================] - 1s 275us/sample - loss: 7.1397e-04 - accuracy: 0.9997 - val_loss: 0.0955 - val_accuracy: 0.9853\n",
            "Epoch 11/30\n",
            "3733/3733 [==============================] - 1s 289us/sample - loss: 4.4624e-04 - accuracy: 1.0000 - val_loss: 0.1078 - val_accuracy: 0.9842\n",
            "Epoch 12/30\n",
            "3733/3733 [==============================] - 1s 296us/sample - loss: 3.2232e-04 - accuracy: 0.9997 - val_loss: 0.0937 - val_accuracy: 0.9864\n",
            "Epoch 13/30\n",
            "3733/3733 [==============================] - 1s 286us/sample - loss: 1.6779e-04 - accuracy: 1.0000 - val_loss: 0.1095 - val_accuracy: 0.9848\n",
            "Epoch 14/30\n",
            "3733/3733 [==============================] - 1s 323us/sample - loss: 1.0738e-04 - accuracy: 1.0000 - val_loss: 0.1124 - val_accuracy: 0.9848\n",
            "Epoch 15/30\n",
            "3733/3733 [==============================] - 1s 288us/sample - loss: 7.8394e-05 - accuracy: 1.0000 - val_loss: 0.1151 - val_accuracy: 0.9848\n",
            "Epoch 16/30\n",
            "3733/3733 [==============================] - 1s 297us/sample - loss: 6.5629e-05 - accuracy: 1.0000 - val_loss: 0.1139 - val_accuracy: 0.9848\n",
            "Epoch 17/30\n",
            "3733/3733 [==============================] - 1s 278us/sample - loss: 4.7245e-05 - accuracy: 1.0000 - val_loss: 0.1147 - val_accuracy: 0.9848\n",
            "Epoch 18/30\n",
            "3733/3733 [==============================] - 1s 282us/sample - loss: 3.7949e-05 - accuracy: 1.0000 - val_loss: 0.1179 - val_accuracy: 0.9848\n",
            "Epoch 19/30\n",
            "3733/3733 [==============================] - 1s 287us/sample - loss: 3.0844e-05 - accuracy: 1.0000 - val_loss: 0.1201 - val_accuracy: 0.9848\n",
            "Epoch 20/30\n",
            "3733/3733 [==============================] - 1s 292us/sample - loss: 2.5834e-05 - accuracy: 1.0000 - val_loss: 0.1210 - val_accuracy: 0.9848\n",
            "Epoch 21/30\n",
            "3733/3733 [==============================] - 1s 275us/sample - loss: 2.1967e-05 - accuracy: 1.0000 - val_loss: 0.1221 - val_accuracy: 0.9848\n",
            "Epoch 22/30\n",
            "3733/3733 [==============================] - 1s 278us/sample - loss: 1.8679e-05 - accuracy: 1.0000 - val_loss: 0.1238 - val_accuracy: 0.9848\n",
            "Epoch 23/30\n",
            "3733/3733 [==============================] - 1s 284us/sample - loss: 1.5906e-05 - accuracy: 1.0000 - val_loss: 0.1242 - val_accuracy: 0.9848\n",
            "Epoch 24/30\n",
            "3733/3733 [==============================] - 1s 273us/sample - loss: 1.3719e-05 - accuracy: 1.0000 - val_loss: 0.1265 - val_accuracy: 0.9848\n",
            "Epoch 25/30\n",
            "3733/3733 [==============================] - 1s 334us/sample - loss: 1.2091e-05 - accuracy: 1.0000 - val_loss: 0.1271 - val_accuracy: 0.9848\n",
            "Epoch 26/30\n",
            "3733/3733 [==============================] - 1s 287us/sample - loss: 1.0708e-05 - accuracy: 1.0000 - val_loss: 0.1266 - val_accuracy: 0.9848\n",
            "Epoch 27/30\n",
            "3733/3733 [==============================] - 1s 285us/sample - loss: 9.4162e-06 - accuracy: 1.0000 - val_loss: 0.1279 - val_accuracy: 0.9848\n",
            "Epoch 28/30\n",
            "3733/3733 [==============================] - 1s 272us/sample - loss: 8.2830e-06 - accuracy: 1.0000 - val_loss: 0.1304 - val_accuracy: 0.9848\n",
            "Epoch 29/30\n",
            "3733/3733 [==============================] - 1s 276us/sample - loss: 7.3699e-06 - accuracy: 1.0000 - val_loss: 0.1316 - val_accuracy: 0.9848\n",
            "Epoch 30/30\n",
            "3733/3733 [==============================] - 1s 284us/sample - loss: 6.5844e-06 - accuracy: 1.0000 - val_loss: 0.1324 - val_accuracy: 0.9848\n"
          ],
          "name": "stdout"
        }
      ]
    },
    {
      "cell_type": "code",
      "metadata": {
        "id": "1TwNgrAoQxu9",
        "colab_type": "code",
        "outputId": "c851d924-ebca-465e-dfe4-acc48f479e5a",
        "colab": {
          "base_uri": "https://localhost:8080/",
          "height": 286
        }
      },
      "source": [
        "plt.plot(r.history['loss'], label='loss')\n",
        "plt.plot(r.history['val_loss'], label='val_loss')\n",
        "plt.legend()"
      ],
      "execution_count": 0,
      "outputs": [
        {
          "output_type": "execute_result",
          "data": {
            "text/plain": [
              "<matplotlib.legend.Legend at 0x7f983bff6048>"
            ]
          },
          "metadata": {
            "tags": []
          },
          "execution_count": 22
        },
        {
          "output_type": "display_data",
          "data": {
            "image/png": "[encoded data removed]",
            "text/plain": [
              "<Figure size 432x288 with 1 Axes>"
            ]
          },
          "metadata": {
            "tags": []
          }
        }
      ]
    },
    {
      "cell_type": "code",
      "metadata": {
        "id": "wqiPYRT_Q0nl",
        "colab_type": "code",
        "outputId": "31634b8b-b989-43ae-b0c6-74810d5dbed1",
        "colab": {
          "base_uri": "https://localhost:8080/",
          "height": 282
        }
      },
      "source": [
        "plt.plot(r.history['accuracy'], label='accuracy')\n",
        "plt.plot(r.history['val_accuracy'], label='val_accuracy')\n",
        "plt.legend()"
      ],
      "execution_count": 0,
      "outputs": [
        {
          "output_type": "execute_result",
          "data": {
            "text/plain": [
              "<matplotlib.legend.Legend at 0x7f983bac6b70>"
            ]
          },
          "metadata": {
            "tags": []
          },
          "execution_count": 23
        },
        {
          "output_type": "display_data",
          "data": {
            "image/png": "[encoded data removed]",
            "text/plain": [
              "<Figure size 432x288 with 1 Axes>"
            ]
          },
          "metadata": {
            "tags": []
          }
        }
      ]
    },
    {
      "cell_type": "code",
      "metadata": {
        "id": "G9npKOASQ9cs",
        "colab_type": "code",
        "colab": {}
      },
      "source": [
        ""
      ],
      "execution_count": 0,
      "outputs": []
    }
  ]
}